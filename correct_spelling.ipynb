{
 "cells": [
  {
   "cell_type": "code",
   "execution_count": 61,
   "id": "3e7dbf8d-acd3-42ac-9d49-1a261f369891",
   "metadata": {},
   "outputs": [],
   "source": [
    "from textblob import TextBlob\n",
    "from langdetect import detect"
   ]
  },
  {
   "cell_type": "code",
   "execution_count": 62,
   "id": "faa91c74-3141-4f28-bccc-1a018befcbb7",
   "metadata": {},
   "outputs": [],
   "source": [
    "text = \"English, Oats, Suggar, Strawberies\""
   ]
  },
  {
   "cell_type": "code",
   "execution_count": 63,
   "id": "863ac775-607a-429f-9da2-86e9be2f72ed",
   "metadata": {},
   "outputs": [
    {
     "data": {
      "text/plain": [
       "'en'"
      ]
     },
     "execution_count": 63,
     "metadata": {},
     "output_type": "execute_result"
    }
   ],
   "source": [
    "language = detect(text)\n",
    "language"
   ]
  },
  {
   "cell_type": "code",
   "execution_count": 66,
   "id": "8529285b-ccaa-4690-93cf-937c3765ea46",
   "metadata": {},
   "outputs": [
    {
     "name": "stdout",
     "output_type": "stream",
     "text": [
      "corrected_text: English, Oats, Sugar, Strawberries\n"
     ]
    }
   ],
   "source": [
    "if language == \"en\":\n",
    "    corrected_text = TextBlob(text)\n",
    "    corrected_text = corrected_text.correct()\n",
    "    print('corrected_text:', corrected_text)"
   ]
  },
  {
   "cell_type": "code",
   "execution_count": null,
   "id": "ac2a2767-cb1b-452f-888c-d9bc29f677a4",
   "metadata": {},
   "outputs": [],
   "source": []
  }
 ],
 "metadata": {
  "kernelspec": {
   "display_name": "Python 3 (ipykernel)",
   "language": "python",
   "name": "python3"
  },
  "language_info": {
   "codemirror_mode": {
    "name": "ipython",
    "version": 3
   },
   "file_extension": ".py",
   "mimetype": "text/x-python",
   "name": "python",
   "nbconvert_exporter": "python",
   "pygments_lexer": "ipython3",
   "version": "3.11.6"
  }
 },
 "nbformat": 4,
 "nbformat_minor": 5
}
